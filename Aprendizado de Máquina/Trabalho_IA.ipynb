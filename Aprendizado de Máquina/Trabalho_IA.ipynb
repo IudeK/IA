{
  "cells": [
    {
      "cell_type": "markdown",
      "metadata": {
        "id": "00LjXo_ospRR"
      },
      "source": [
        "**Trabalho de Inteligência Artificial**"
      ]
    },
    {
      "cell_type": "markdown",
      "metadata": {
        "id": "To3dxt-ivik7"
      },
      "source": [
        "Importando bibliotecas"
      ]
    },
    {
      "cell_type": "code",
      "execution_count": 5,
      "metadata": {
        "id": "m4NjElY5IrNf"
      },
      "outputs": [],
      "source": [
        "import numpy as np\n",
        "import pandas as pd\n",
        "from plotnine import *\n",
        "import statistics \n",
        "import matplotlib.pyplot as plt\n"
      ]
    },
    {
      "cell_type": "code",
      "execution_count": 6,
      "metadata": {
        "id": "_DAMz57xsnYk"
      },
      "outputs": [],
      "source": [
        "from sklearn.model_selection import train_test_split"
      ]
    },
    {
      "cell_type": "code",
      "execution_count": 7,
      "metadata": {
        "id": "qiFP-jW7IsMf"
      },
      "outputs": [],
      "source": [
        "import plotly.graph_objects as go\n",
        "import plotly.express as px "
      ]
    },
    {
      "cell_type": "markdown",
      "metadata": {
        "id": "TZ-RU4HtC15d"
      },
      "source": [
        "Questão 1"
      ]
    },
    {
      "cell_type": "code",
      "execution_count": null,
      "metadata": {
        "id": "QkH4C8sZtJ4k"
      },
      "outputs": [],
      "source": [
        "data = pd.read_csv(\"ex1data1.txt\")"
      ]
    },
    {
      "cell_type": "code",
      "execution_count": null,
      "metadata": {
        "colab": {
          "base_uri": "https://localhost:8080/"
        },
        "id": "AX6p9n5jvISj",
        "outputId": "ecffb5f7-dd37-409f-c9e6-58f2052b4120"
      },
      "outputs": [
        {
          "data": {
            "text/plain": [
              "(96, 2)"
            ]
          },
          "execution_count": 449,
          "metadata": {},
          "output_type": "execute_result"
        }
      ],
      "source": [
        "data.shape"
      ]
    },
    {
      "cell_type": "code",
      "execution_count": null,
      "metadata": {
        "id": "Ipr7H1hiqcAP"
      },
      "outputs": [],
      "source": [
        "data.columns = [\"Dado\", \"Resultado\"]\n",
        "\n",
        "X = data[\"Dado\"]\n",
        "Y = data[\"Resultado\"]"
      ]
    },
    {
      "cell_type": "markdown",
      "metadata": {
        "id": "g6_AAcB0w9KF"
      },
      "source": [
        "Plotando o gráfico podemos observar que os dados formam uma reta, desse modo, uma regressão linear é aplicável como forma de prever o resultado para uma determinada entrada\n",
        "\n"
      ]
    },
    {
      "cell_type": "code",
      "execution_count": null,
      "metadata": {
        "colab": {
          "base_uri": "https://localhost:8080/",
          "height": 464
        },
        "id": "W4eMVjsYvWm0",
        "outputId": "93c7be4e-4eb8-47b0-c9aa-59eb93dbd58d"
      },
      "outputs": [
        {
          "data": {
            "image/png": "[encoded data removed]",
            "text/plain": [
              "<Figure size 640x480 with 1 Axes>"
            ]
          },
          "metadata": {},
          "output_type": "display_data"
        },
        {
          "data": {
            "text/plain": [
              "<ggplot: (8730179694257)>"
            ]
          },
          "execution_count": 451,
          "metadata": {},
          "output_type": "execute_result"
        }
      ],
      "source": [
        "(ggplot(data,aes(X,Y))\n",
        " + geom_point()\n",
        " + theme_light()\n",
        ")"
      ]
    },
    {
      "cell_type": "code",
      "execution_count": null,
      "metadata": {
        "id": "zFyXSF1Ia2CE"
      },
      "outputs": [],
      "source": [
        "# implementa regressão linear com gradiente descendente estocástico \n",
        "\n",
        "class linear_regr(object):\n",
        "\n",
        "    def __init__(self, learning_rate=0.001, batch_size=6, training_iters=1000):\n",
        "        self.learning_rate = learning_rate\n",
        "        self.training_iters = training_iters\n",
        "        self.batch_size = batch_size\n",
        "        self.EQM = list()\n",
        "        \n",
        "\n",
        "    def fit(self, X_train, y_train, plot=False):\n",
        "\n",
        "        # formata os dados         \n",
        "        if len(X_train.values.shape) < 2:\n",
        "            X = X_train.values.reshape(-1,1)\n",
        "            X = np.insert(X, 0, 1, 1)\n",
        "\n",
        "            # inicia os parâmetros com pequenos valores aleatórios         \n",
        "            # (chute razoável)         \n",
        "            self.w_hat = np.random.normal(0,5, size = X[0].shape)\n",
        "\n",
        "        for i in range(self.training_iters):\n",
        "\n",
        "            # cria os mini-lotes             \n",
        "            offset = (i * self.batch_size) % (y_train.shape[0] - self.batch_size)\n",
        "            batch_X = X[offset:(offset + self.batch_size), :]\n",
        "            batch_y = y_train[offset:(offset + self.batch_size)]\n",
        "\n",
        "            gradient = np.zeros(self.w_hat.shape) # inicia o gradiente \n",
        "            \n",
        "            # atualiza o gradiente com informação dos pontos do lote           \n",
        "            for point, yi in zip(batch_X, batch_y):    \n",
        "                gradient +=  (point * self.w_hat - yi) * point\n",
        "       \n",
        "                \n",
        "            gradient *= self.learning_rate\n",
        "            self.w_hat -= gradient\n",
        "\n",
        "            erro_quadratico = (np.array(y_train)-np.dot(X, self.w_hat))**2\n",
        "\n",
        "            self.EQM.append(sum(erro_quadratico)/len(X_train))\n",
        "\n",
        "    def predictResult(self, X_test):\n",
        "        # formata os dados         \n",
        "        if len(X_test.values.shape) < 2:\n",
        "          X = X_test.values.reshape(-1,1)\n",
        "          X = np.insert(X, 0, 1, 1)\n",
        "\n",
        "          return np.dot(X, self.w_hat) \n"
      ]
    },
    {
      "cell_type": "code",
      "execution_count": null,
      "metadata": {
        "id": "yqdG_aFRD3IY"
      },
      "outputs": [],
      "source": [
        "regr = linear_regr()\n",
        "regr.fit(X, Y)"
      ]
    },
    {
      "cell_type": "markdown",
      "metadata": {
        "id": "2eoZzlORqCPC"
      },
      "source": [
        "Pesos encontrados"
      ]
    },
    {
      "cell_type": "code",
      "execution_count": null,
      "metadata": {
        "colab": {
          "base_uri": "https://localhost:8080/"
        },
        "id": "DgUzybzNqAPh",
        "outputId": "a30230bd-607e-4200-d4a8-fac889bdf31b"
      },
      "outputs": [
        {
          "data": {
            "text/plain": [
              "array([5.63544546, 0.66741245])"
            ]
          },
          "execution_count": 515,
          "metadata": {},
          "output_type": "execute_result"
        }
      ],
      "source": [
        "regr.w_hat"
      ]
    },
    {
      "cell_type": "code",
      "execution_count": null,
      "metadata": {
        "colab": {
          "base_uri": "https://localhost:8080/",
          "height": 424
        },
        "id": "SLm2iPaSd_kw",
        "outputId": "0854bde2-9b46-4447-9f80-09938f319a2b"
      },
      "outputs": [
        {
          "data": {
            "text/html": [
              "\n",
              "  <div id=\"df-8d937b59-a024-42af-b20d-cdf4d10903de\">\n",
              "    <div class=\"colab-df-container\">\n",
              "      <div>\n",
              "<style scoped>\n",
              "    .dataframe tbody tr th:only-of-type {\n",
              "        vertical-align: middle;\n",
              "    }\n",
              "\n",
              "    .dataframe tbody tr th {\n",
              "        vertical-align: top;\n",
              "    }\n",
              "\n",
              "    .dataframe thead th {\n",
              "        text-align: right;\n",
              "    }\n",
              "</style>\n",
              "<table border=\"1\" class=\"dataframe\">\n",
              "  <thead>\n",
              "    <tr style=\"text-align: right;\">\n",
              "      <th></th>\n",
              "      <th>0</th>\n",
              "    </tr>\n",
              "  </thead>\n",
              "  <tbody>\n",
              "    <tr>\n",
              "      <th>0</th>\n",
              "      <td>2789.355953</td>\n",
              "    </tr>\n",
              "    <tr>\n",
              "      <th>1</th>\n",
              "      <td>1328.192090</td>\n",
              "    </tr>\n",
              "    <tr>\n",
              "      <th>2</th>\n",
              "      <td>1000.515093</td>\n",
              "    </tr>\n",
              "    <tr>\n",
              "      <th>3</th>\n",
              "      <td>431.075640</td>\n",
              "    </tr>\n",
              "    <tr>\n",
              "      <th>4</th>\n",
              "      <td>109.191841</td>\n",
              "    </tr>\n",
              "    <tr>\n",
              "      <th>...</th>\n",
              "      <td>...</td>\n",
              "    </tr>\n",
              "    <tr>\n",
              "      <th>995</th>\n",
              "      <td>74.607072</td>\n",
              "    </tr>\n",
              "    <tr>\n",
              "      <th>996</th>\n",
              "      <td>55.487959</td>\n",
              "    </tr>\n",
              "    <tr>\n",
              "      <th>997</th>\n",
              "      <td>48.356626</td>\n",
              "    </tr>\n",
              "    <tr>\n",
              "      <th>998</th>\n",
              "      <td>43.650199</td>\n",
              "    </tr>\n",
              "    <tr>\n",
              "      <th>999</th>\n",
              "      <td>37.419413</td>\n",
              "    </tr>\n",
              "  </tbody>\n",
              "</table>\n",
              "<p>1000 rows × 1 columns</p>\n",
              "</div>\n",
              "      <button class=\"colab-df-convert\" onclick=\"convertToInteractive('df-8d937b59-a024-42af-b20d-cdf4d10903de')\"\n",
              "              title=\"Convert this dataframe to an interactive table.\"\n",
              "              style=\"display:none;\">\n",
              "        \n",
              "  <svg xmlns=\"http://www.w3.org/2000/svg\" height=\"24px\"viewBox=\"0 0 24 24\"\n",
              "       width=\"24px\">\n",
              "    <path d=\"M0 0h24v24H0V0z\" fill=\"none\"/>\n",
              "    <path d=\"M18.56 5.44l.94 2.06.94-2.06 2.06-.94-2.06-.94-.94-2.06-.94 2.06-2.06.94zm-11 1L8.5 8.5l.94-2.06 2.06-.94-2.06-.94L8.5 2.5l-.94 2.06-2.06.94zm10 10l.94 2.06.94-2.06 2.06-.94-2.06-.94-.94-2.06-.94 2.06-2.06.94z\"/><path d=\"M17.41 7.96l-1.37-1.37c-.4-.4-.92-.59-1.43-.59-.52 0-1.04.2-1.43.59L10.3 9.45l-7.72 7.72c-.78.78-.78 2.05 0 2.83L4 21.41c.39.39.9.59 1.41.59.51 0 1.02-.2 1.41-.59l7.78-7.78 2.81-2.81c.8-.78.8-2.07 0-2.86zM5.41 20L4 18.59l7.72-7.72 1.47 1.35L5.41 20z\"/>\n",
              "  </svg>\n",
              "      </button>\n",
              "      \n",
              "  <style>\n",
              "    .colab-df-container {\n",
              "      display:flex;\n",
              "      flex-wrap:wrap;\n",
              "      gap: 12px;\n",
              "    }\n",
              "\n",
              "    .colab-df-convert {\n",
              "      background-color: #E8F0FE;\n",
              "      border: none;\n",
              "      border-radius: 50%;\n",
              "      cursor: pointer;\n",
              "      display: none;\n",
              "      fill: #1967D2;\n",
              "      height: 32px;\n",
              "      padding: 0 0 0 0;\n",
              "      width: 32px;\n",
              "    }\n",
              "\n",
              "    .colab-df-convert:hover {\n",
              "      background-color: #E2EBFA;\n",
              "      box-shadow: 0px 1px 2px rgba(60, 64, 67, 0.3), 0px 1px 3px 1px rgba(60, 64, 67, 0.15);\n",
              "      fill: #174EA6;\n",
              "    }\n",
              "\n",
              "    [theme=dark] .colab-df-convert {\n",
              "      background-color: #3B4455;\n",
              "      fill: #D2E3FC;\n",
              "    }\n",
              "\n",
              "    [theme=dark] .colab-df-convert:hover {\n",
              "      background-color: #434B5C;\n",
              "      box-shadow: 0px 1px 3px 1px rgba(0, 0, 0, 0.15);\n",
              "      filter: drop-shadow(0px 1px 2px rgba(0, 0, 0, 0.3));\n",
              "      fill: #FFFFFF;\n",
              "    }\n",
              "  </style>\n",
              "\n",
              "      <script>\n",
              "        const buttonEl =\n",
              "          document.querySelector('#df-8d937b59-a024-42af-b20d-cdf4d10903de button.colab-df-convert');\n",
              "        buttonEl.style.display =\n",
              "          google.colab.kernel.accessAllowed ? 'block' : 'none';\n",
              "\n",
              "        async function convertToInteractive(key) {\n",
              "          const element = document.querySelector('#df-8d937b59-a024-42af-b20d-cdf4d10903de');\n",
              "          const dataTable =\n",
              "            await google.colab.kernel.invokeFunction('convertToInteractive',\n",
              "                                                     [key], {});\n",
              "          if (!dataTable) return;\n",
              "\n",
              "          const docLinkHtml = 'Like what you see? Visit the ' +\n",
              "            '<a target=\"_blank\" href=https://colab.research.google.com/notebooks/data_table.ipynb>data table notebook</a>'\n",
              "            + ' to learn more about interactive tables.';\n",
              "          element.innerHTML = '';\n",
              "          dataTable['output_type'] = 'display_data';\n",
              "          await google.colab.output.renderOutput(dataTable, element);\n",
              "          const docLink = document.createElement('div');\n",
              "          docLink.innerHTML = docLinkHtml;\n",
              "          element.appendChild(docLink);\n",
              "        }\n",
              "      </script>\n",
              "    </div>\n",
              "  </div>\n",
              "  "
            ],
            "text/plain": [
              "               0\n",
              "0    2789.355953\n",
              "1    1328.192090\n",
              "2    1000.515093\n",
              "3     431.075640\n",
              "4     109.191841\n",
              "..           ...\n",
              "995    74.607072\n",
              "996    55.487959\n",
              "997    48.356626\n",
              "998    43.650199\n",
              "999    37.419413\n",
              "\n",
              "[1000 rows x 1 columns]"
            ]
          },
          "execution_count": 524,
          "metadata": {},
          "output_type": "execute_result"
        }
      ],
      "source": [
        "# Convertendo lista em DataFrame para plotar no PlotNine\n",
        "EQM_df = pd.DataFrame(regr.EQM)\n",
        "EQM_df"
      ]
    },
    {
      "cell_type": "markdown",
      "metadata": {
        "id": "v-YxaeCDl5HE"
      },
      "source": [
        "Plotando o gráfico do erro quadrático médio percebemos que o erro diminui conforme o número de épocas (iterações) aumenta. Devido aos batchs (partes aletórias) percebemos que mesmo com o avanço das épocas, o EQM ainda vária bastante, isso se dá por conta da learning_rate (diminuindo o valor, EQM é mais constante)"
      ]
    },
    {
      "cell_type": "code",
      "execution_count": null,
      "metadata": {
        "colab": {
          "base_uri": "https://localhost:8080/",
          "height": 467
        },
        "id": "XaCuVRgiYsXX",
        "outputId": "38e86437-0430-48f0-ac96-23f3d803d3f3"
      },
      "outputs": [
        {
          "data": {
            "image/png": "[encoded data removed]",
            "text/plain": [
              "<Figure size 640x480 with 1 Axes>"
            ]
          },
          "metadata": {},
          "output_type": "display_data"
        },
        {
          "data": {
            "text/plain": [
              "<ggplot: (8730179419409)>"
            ]
          },
          "execution_count": 525,
          "metadata": {},
          "output_type": "execute_result"
        }
      ],
      "source": [
        "(ggplot(EQM_df, aes(EQM_df.index, EQM_df[0]))\n",
        "+ geom_line()\n",
        "+ xlab('Época')\n",
        "+ ylab('EQM')\n",
        ")"
      ]
    },
    {
      "cell_type": "markdown",
      "metadata": {
        "id": "w0_fPratr9Xv"
      },
      "source": [
        "Podemos perceber que o modelo converge (Diminuindo o learning_rate o modelo pode melhorar) \n",
        "\n",
        "* Melhor learning_rate: 0.00001"
      ]
    },
    {
      "cell_type": "code",
      "execution_count": null,
      "metadata": {
        "colab": {
          "base_uri": "https://localhost:8080/",
          "height": 464
        },
        "id": "y0aXGhIbqYJf",
        "outputId": "c36dcf25-6ebb-41b1-bb1a-837f55406df2"
      },
      "outputs": [
        {
          "data": {
            "image/png": "[encoded data removed]",
            "text/plain": [
              "<Figure size 640x480 with 1 Axes>"
            ]
          },
          "metadata": {},
          "output_type": "display_data"
        },
        {
          "data": {
            "text/plain": [
              "<ggplot: (8730179484821)>"
            ]
          },
          "execution_count": 509,
          "metadata": {},
          "output_type": "execute_result"
        }
      ],
      "source": [
        "(ggplot(data,aes('Dado','Resultado'))\n",
        " + geom_point()\n",
        " + theme_light()\n",
        " + geom_abline(intercept=regr.w_hat[0] , slope=regr.w_hat[1], color='red')\n",
        ")"
      ]
    },
    {
      "cell_type": "markdown",
      "metadata": {
        "id": "_Usg2T-ymK6G"
      },
      "source": [
        "Questão 2"
      ]
    },
    {
      "cell_type": "markdown",
      "metadata": {
        "id": "KK8JmeuXyMCH"
      },
      "source": [
        "Tratamento dos dados"
      ]
    },
    {
      "cell_type": "code",
      "execution_count": 300,
      "metadata": {
        "id": "gxkNn7K1sAV5"
      },
      "outputs": [],
      "source": [
        "data = pd.read_csv(\"ex1data2.txt\")"
      ]
    },
    {
      "cell_type": "code",
      "execution_count": 301,
      "metadata": {
        "colab": {
          "base_uri": "https://localhost:8080/"
        },
        "id": "bxN4DoqcRZcq",
        "outputId": "dcdc35a3-3ac9-4eef-aa8e-3de8678d6835"
      },
      "outputs": [
        {
          "data": {
            "text/plain": [
              "(46, 3)"
            ]
          },
          "execution_count": 301,
          "metadata": {},
          "output_type": "execute_result"
        }
      ],
      "source": [
        "data.shape"
      ]
    },
    {
      "cell_type": "code",
      "execution_count": 302,
      "metadata": {
        "id": "WPl5JUZHfxzD"
      },
      "outputs": [],
      "source": [
        "Y = data.iloc[:, -1].values.reshape(data.shape[0], 1)\n",
        "X = data.iloc[:, :-1]"
      ]
    },
    {
      "cell_type": "code",
      "execution_count": 303,
      "metadata": {
        "colab": {
          "base_uri": "https://localhost:8080/"
        },
        "id": "4LQmgJeof0aj",
        "outputId": "28b1cbb8-36ea-479a-faf2-cad2e85533ba"
      },
      "outputs": [
        {
          "data": {
            "text/plain": [
              "(46, 2)"
            ]
          },
          "execution_count": 303,
          "metadata": {},
          "output_type": "execute_result"
        }
      ],
      "source": [
        "X.shape"
      ]
    },
    {
      "cell_type": "code",
      "execution_count": 304,
      "metadata": {
        "colab": {
          "base_uri": "https://localhost:8080/"
        },
        "id": "T2f2JGGRf1QM",
        "outputId": "a1b60b73-48da-4da6-8f66-c43a3f011810"
      },
      "outputs": [
        {
          "data": {
            "text/plain": [
              "(46, 1)"
            ]
          },
          "execution_count": 304,
          "metadata": {},
          "output_type": "execute_result"
        }
      ],
      "source": [
        "Y.shape"
      ]
    },
    {
      "cell_type": "code",
      "execution_count": 305,
      "metadata": {
        "colab": {
          "base_uri": "https://localhost:8080/"
        },
        "id": "x7ID2Yrmf5BW",
        "outputId": "91fcfedf-77d4-465b-a171-8c643402d94a"
      },
      "outputs": [
        {
          "data": {
            "text/plain": [
              "(46, 3)"
            ]
          },
          "execution_count": 305,
          "metadata": {},
          "output_type": "execute_result"
        }
      ],
      "source": [
        "X = np.vstack((np.ones((X.shape[0], )), X.T)).T\n",
        "X.shape"
      ]
    },
    {
      "cell_type": "code",
      "execution_count": null,
      "metadata": {
        "id": "DxDhHp93fZBf"
      },
      "outputs": [],
      "source": [
        "def predict(X, theta):\n",
        "    return np.dot(X, theta)"
      ]
    },
    {
      "cell_type": "code",
      "execution_count": null,
      "metadata": {
        "id": "tjnVTEzVaQhS"
      },
      "outputs": [],
      "source": [
        "# implementa regressão linear multipla\n",
        "def RegressaoMultipla(X, Y, learning_rate, iteration):\n",
        "  m = Y.size\n",
        "  theta = np.zeros((X.shape[1], 1))\n",
        "  erro_list = []\n",
        "  for i in range(iteration):\n",
        "      y_pred = np.dot(X, theta)\n",
        "\n",
        "      d_theta = (1/m)*np.dot(X.T, y_pred - Y)\n",
        "      theta = theta - learning_rate*d_theta\n",
        "\n",
        "      erro_quadratico = (Y-y_pred) ** 2\n",
        "\n",
        "      erro_list.append(sum(erro_quadratico)/len(X))\n",
        "\n",
        "  return erro_list, theta"
      ]
    },
    {
      "cell_type": "code",
      "execution_count": null,
      "metadata": {
        "id": "G9AFbeLXckH6"
      },
      "outputs": [],
      "source": [
        "EQM, theta = RegressaoMultipla(X, Y, 0.01, 100)"
      ]
    },
    {
      "cell_type": "markdown",
      "metadata": {
        "id": "QTsE8bTl2Gyw"
      },
      "source": [
        "Pesos encontrados pela Regressão"
      ]
    },
    {
      "cell_type": "code",
      "execution_count": null,
      "metadata": {
        "colab": {
          "base_uri": "https://localhost:8080/"
        },
        "id": "Z-E8txcM2D-g",
        "outputId": "1d28652b-ac9b-4ad1-9d8a-20906b299475"
      },
      "outputs": [
        {
          "data": {
            "text/plain": [
              "array([[0.20852325],\n",
              "       [0.71103323],\n",
              "       [0.55488162]])"
            ]
          },
          "execution_count": 430,
          "metadata": {},
          "output_type": "execute_result"
        }
      ],
      "source": [
        "theta"
      ]
    },
    {
      "cell_type": "code",
      "execution_count": null,
      "metadata": {
        "colab": {
          "base_uri": "https://localhost:8080/",
          "height": 424
        },
        "id": "Mhmn5rW7i-1E",
        "outputId": "181cff57-af4a-4b6d-9532-ccc0bc5d6bb8"
      },
      "outputs": [
        {
          "data": {
            "text/html": [
              "\n",
              "  <div id=\"df-d30d4c86-230c-4339-9232-9bc745df0b1e\">\n",
              "    <div class=\"colab-df-container\">\n",
              "      <div>\n",
              "<style scoped>\n",
              "    .dataframe tbody tr th:only-of-type {\n",
              "        vertical-align: middle;\n",
              "    }\n",
              "\n",
              "    .dataframe tbody tr th {\n",
              "        vertical-align: top;\n",
              "    }\n",
              "\n",
              "    .dataframe thead th {\n",
              "        text-align: right;\n",
              "    }\n",
              "</style>\n",
              "<table border=\"1\" class=\"dataframe\">\n",
              "  <thead>\n",
              "    <tr style=\"text-align: right;\">\n",
              "      <th></th>\n",
              "      <th>0</th>\n",
              "    </tr>\n",
              "  </thead>\n",
              "  <tbody>\n",
              "    <tr>\n",
              "      <th>0</th>\n",
              "      <td>13.055838</td>\n",
              "    </tr>\n",
              "    <tr>\n",
              "      <th>1</th>\n",
              "      <td>9.469951</td>\n",
              "    </tr>\n",
              "    <tr>\n",
              "      <th>2</th>\n",
              "      <td>6.933757</td>\n",
              "    </tr>\n",
              "    <tr>\n",
              "      <th>3</th>\n",
              "      <td>5.139786</td>\n",
              "    </tr>\n",
              "    <tr>\n",
              "      <th>4</th>\n",
              "      <td>3.870630</td>\n",
              "    </tr>\n",
              "    <tr>\n",
              "      <th>...</th>\n",
              "      <td>...</td>\n",
              "    </tr>\n",
              "    <tr>\n",
              "      <th>95</th>\n",
              "      <td>0.651182</td>\n",
              "    </tr>\n",
              "    <tr>\n",
              "      <th>96</th>\n",
              "      <td>0.649866</td>\n",
              "    </tr>\n",
              "    <tr>\n",
              "      <th>97</th>\n",
              "      <td>0.648557</td>\n",
              "    </tr>\n",
              "    <tr>\n",
              "      <th>98</th>\n",
              "      <td>0.647257</td>\n",
              "    </tr>\n",
              "    <tr>\n",
              "      <th>99</th>\n",
              "      <td>0.645965</td>\n",
              "    </tr>\n",
              "  </tbody>\n",
              "</table>\n",
              "<p>100 rows × 1 columns</p>\n",
              "</div>\n",
              "      <button class=\"colab-df-convert\" onclick=\"convertToInteractive('df-d30d4c86-230c-4339-9232-9bc745df0b1e')\"\n",
              "              title=\"Convert this dataframe to an interactive table.\"\n",
              "              style=\"display:none;\">\n",
              "        \n",
              "  <svg xmlns=\"http://www.w3.org/2000/svg\" height=\"24px\"viewBox=\"0 0 24 24\"\n",
              "       width=\"24px\">\n",
              "    <path d=\"M0 0h24v24H0V0z\" fill=\"none\"/>\n",
              "    <path d=\"M18.56 5.44l.94 2.06.94-2.06 2.06-.94-2.06-.94-.94-2.06-.94 2.06-2.06.94zm-11 1L8.5 8.5l.94-2.06 2.06-.94-2.06-.94L8.5 2.5l-.94 2.06-2.06.94zm10 10l.94 2.06.94-2.06 2.06-.94-2.06-.94-.94-2.06-.94 2.06-2.06.94z\"/><path d=\"M17.41 7.96l-1.37-1.37c-.4-.4-.92-.59-1.43-.59-.52 0-1.04.2-1.43.59L10.3 9.45l-7.72 7.72c-.78.78-.78 2.05 0 2.83L4 21.41c.39.39.9.59 1.41.59.51 0 1.02-.2 1.41-.59l7.78-7.78 2.81-2.81c.8-.78.8-2.07 0-2.86zM5.41 20L4 18.59l7.72-7.72 1.47 1.35L5.41 20z\"/>\n",
              "  </svg>\n",
              "      </button>\n",
              "      \n",
              "  <style>\n",
              "    .colab-df-container {\n",
              "      display:flex;\n",
              "      flex-wrap:wrap;\n",
              "      gap: 12px;\n",
              "    }\n",
              "\n",
              "    .colab-df-convert {\n",
              "      background-color: #E8F0FE;\n",
              "      border: none;\n",
              "      border-radius: 50%;\n",
              "      cursor: pointer;\n",
              "      display: none;\n",
              "      fill: #1967D2;\n",
              "      height: 32px;\n",
              "      padding: 0 0 0 0;\n",
              "      width: 32px;\n",
              "    }\n",
              "\n",
              "    .colab-df-convert:hover {\n",
              "      background-color: #E2EBFA;\n",
              "      box-shadow: 0px 1px 2px rgba(60, 64, 67, 0.3), 0px 1px 3px 1px rgba(60, 64, 67, 0.15);\n",
              "      fill: #174EA6;\n",
              "    }\n",
              "\n",
              "    [theme=dark] .colab-df-convert {\n",
              "      background-color: #3B4455;\n",
              "      fill: #D2E3FC;\n",
              "    }\n",
              "\n",
              "    [theme=dark] .colab-df-convert:hover {\n",
              "      background-color: #434B5C;\n",
              "      box-shadow: 0px 1px 3px 1px rgba(0, 0, 0, 0.15);\n",
              "      filter: drop-shadow(0px 1px 2px rgba(0, 0, 0, 0.3));\n",
              "      fill: #FFFFFF;\n",
              "    }\n",
              "  </style>\n",
              "\n",
              "      <script>\n",
              "        const buttonEl =\n",
              "          document.querySelector('#df-d30d4c86-230c-4339-9232-9bc745df0b1e button.colab-df-convert');\n",
              "        buttonEl.style.display =\n",
              "          google.colab.kernel.accessAllowed ? 'block' : 'none';\n",
              "\n",
              "        async function convertToInteractive(key) {\n",
              "          const element = document.querySelector('#df-d30d4c86-230c-4339-9232-9bc745df0b1e');\n",
              "          const dataTable =\n",
              "            await google.colab.kernel.invokeFunction('convertToInteractive',\n",
              "                                                     [key], {});\n",
              "          if (!dataTable) return;\n",
              "\n",
              "          const docLinkHtml = 'Like what you see? Visit the ' +\n",
              "            '<a target=\"_blank\" href=https://colab.research.google.com/notebooks/data_table.ipynb>data table notebook</a>'\n",
              "            + ' to learn more about interactive tables.';\n",
              "          element.innerHTML = '';\n",
              "          dataTable['output_type'] = 'display_data';\n",
              "          await google.colab.output.renderOutput(dataTable, element);\n",
              "          const docLink = document.createElement('div');\n",
              "          docLink.innerHTML = docLinkHtml;\n",
              "          element.appendChild(docLink);\n",
              "        }\n",
              "      </script>\n",
              "    </div>\n",
              "  </div>\n",
              "  "
            ],
            "text/plain": [
              "            0\n",
              "0   13.055838\n",
              "1    9.469951\n",
              "2    6.933757\n",
              "3    5.139786\n",
              "4    3.870630\n",
              "..        ...\n",
              "95   0.651182\n",
              "96   0.649866\n",
              "97   0.648557\n",
              "98   0.647257\n",
              "99   0.645965\n",
              "\n",
              "[100 rows x 1 columns]"
            ]
          },
          "execution_count": 431,
          "metadata": {},
          "output_type": "execute_result"
        }
      ],
      "source": [
        "# Convertendo lista em DataFrame para plotar no PlotNine\n",
        "EQM_df = pd.DataFrame(EQM)\n",
        "EQM_df"
      ]
    },
    {
      "cell_type": "markdown",
      "metadata": {
        "id": "ymEPlvX6wnnJ"
      },
      "source": [
        "Plotando o gráfico do erro quadrático médio percebemos que o erro diminui conforme o número de épocas (iterações) aumenta. Depois de algumas iterações, ele permanece constante (o algoritmo terminou de \"evoluir/aprender\"). Nesse gráfico a curva de aprendizado é muito mais evidente\n"
      ]
    },
    {
      "cell_type": "code",
      "execution_count": null,
      "metadata": {
        "colab": {
          "base_uri": "https://localhost:8080/",
          "height": 467
        },
        "id": "hY5m6CsJfAdP",
        "outputId": "dcebe5ba-0821-42a1-d1f8-4d8a689f8e3a"
      },
      "outputs": [
        {
          "data": {
            "image/png": "[encoded data removed]",
            "text/plain": [
              "<Figure size 640x480 with 1 Axes>"
            ]
          },
          "metadata": {},
          "output_type": "display_data"
        },
        {
          "data": {
            "text/plain": [
              "<ggplot: (8730179517073)>"
            ]
          },
          "execution_count": 432,
          "metadata": {},
          "output_type": "execute_result"
        }
      ],
      "source": [
        "(ggplot(EQM_df, aes(EQM_df.index, EQM_df[0]))\n",
        "+ geom_line()\n",
        "+ xlab('Época')\n",
        "+ ylab('EQM')\n",
        ")"
      ]
    },
    {
      "cell_type": "markdown",
      "metadata": {
        "id": "-dkB-CSdvjcP"
      },
      "source": [
        "Resultado dos coeficientes através do método dos mínimos quadrados"
      ]
    },
    {
      "cell_type": "code",
      "execution_count": 306,
      "metadata": {
        "colab": {
          "base_uri": "https://localhost:8080/"
        },
        "id": "lPY5OVCqvi0X",
        "outputId": "dd553954-de1a-456a-f0d1-15c2c463b01e"
      },
      "outputs": [
        {
          "name": "stderr",
          "output_type": "stream",
          "text": [
            "/usr/local/lib/python3.7/dist-packages/ipykernel_launcher.py:1: FutureWarning: `rcond` parameter will change to the default of machine precision times ``max(M, N)`` where M and N are the input matrix dimensions.\n",
            "To use the future default and silence this warning we advise to pass `rcond=None`, to keep using the old, explicitly pass `rcond=-1`.\n"
          ]
        },
        {
          "data": {
            "text/plain": [
              "array([[ 0.8780775 ],\n",
              "       [ 1.38755878],\n",
              "       [-0.08186383]])"
            ]
          },
          "execution_count": 306,
          "metadata": {},
          "output_type": "execute_result"
        }
      ],
      "source": [
        "mhat, residuals, rank, s = np.linalg.lstsq(X,Y)\n"
      ]
    },
    {
      "cell_type": "markdown",
      "metadata": {
        "id": "rwBA4lw75P_M"
      },
      "source": [
        "Pesos encontrados pela método \n",
        "dos mínimos quadrados"
      ]
    },
    {
      "cell_type": "code",
      "execution_count": 307,
      "metadata": {
        "colab": {
          "base_uri": "https://localhost:8080/"
        },
        "id": "4iE7hh3gv9HF",
        "outputId": "4cb486fb-3e33-475a-8980-7d307b8db5b1"
      },
      "outputs": [
        {
          "data": {
            "text/plain": [
              "array([[ 0.8780775 ],\n",
              "       [ 1.38755878],\n",
              "       [-0.08186383]])"
            ]
          },
          "execution_count": 307,
          "metadata": {},
          "output_type": "execute_result"
        }
      ],
      "source": [
        "mhat"
      ]
    },
    {
      "cell_type": "markdown",
      "metadata": {
        "id": "tlJjM7l75c4M"
      },
      "source": [
        "Os coeficientes dos métodos são diferentes, mas ajustando a learning_rate ou aumentando o número de épocas, os 2 métodos vão convergir"
      ]
    },
    {
      "cell_type": "markdown",
      "metadata": {
        "id": "nxBu-h4qHVHf"
      },
      "source": [
        "Questão 3"
      ]
    },
    {
      "cell_type": "code",
      "execution_count": 1,
      "metadata": {
        "id": "ptz79us_HXzh"
      },
      "outputs": [],
      "source": [
        "with open('ex1data3.txt', 'r') as file :\n",
        "  filedata = file.read()"
      ]
    },
    {
      "cell_type": "code",
      "execution_count": 2,
      "metadata": {
        "id": "WNfVKAE4-ZcF"
      },
      "outputs": [],
      "source": [
        "filedata = filedata.replace(' ', ',')"
      ]
    },
    {
      "cell_type": "code",
      "execution_count": 3,
      "metadata": {
        "id": "7xxD7-SG-cS1"
      },
      "outputs": [],
      "source": [
        "with open('ex1data3.txt', 'w') as file:\n",
        "  file.write(filedata)"
      ]
    },
    {
      "cell_type": "code",
      "execution_count": 107,
      "metadata": {
        "id": "q8z1i90B-paW"
      },
      "outputs": [],
      "source": [
        "data = pd.read_csv(\"ex1data3.txt\", header=None)"
      ]
    },
    {
      "cell_type": "code",
      "execution_count": 108,
      "metadata": {
        "colab": {
          "base_uri": "https://localhost:8080/",
          "height": 206
        },
        "id": "rCbhW3HM-xrk",
        "outputId": "284a5e07-df46-4644-c695-835518a886dc"
      },
      "outputs": [
        {
          "data": {
            "text/html": [
              "\n",
              "  <div id=\"df-442d988f-52d5-4489-805d-d2c28c1bb96f\">\n",
              "    <div class=\"colab-df-container\">\n",
              "      <div>\n",
              "<style scoped>\n",
              "    .dataframe tbody tr th:only-of-type {\n",
              "        vertical-align: middle;\n",
              "    }\n",
              "\n",
              "    .dataframe tbody tr th {\n",
              "        vertical-align: top;\n",
              "    }\n",
              "\n",
              "    .dataframe thead th {\n",
              "        text-align: right;\n",
              "    }\n",
              "</style>\n",
              "<table border=\"1\" class=\"dataframe\">\n",
              "  <thead>\n",
              "    <tr style=\"text-align: right;\">\n",
              "      <th></th>\n",
              "      <th>0</th>\n",
              "      <th>1</th>\n",
              "      <th>2</th>\n",
              "      <th>3</th>\n",
              "      <th>4</th>\n",
              "      <th>5</th>\n",
              "      <th>6</th>\n",
              "    </tr>\n",
              "  </thead>\n",
              "  <tbody>\n",
              "    <tr>\n",
              "      <th>0</th>\n",
              "      <td>NaN</td>\n",
              "      <td>2.104</td>\n",
              "      <td>3</td>\n",
              "      <td>1.214590</td>\n",
              "      <td>1.645454</td>\n",
              "      <td>2.040360</td>\n",
              "      <td>3.999</td>\n",
              "    </tr>\n",
              "    <tr>\n",
              "      <th>1</th>\n",
              "      <td>NaN</td>\n",
              "      <td>1.600</td>\n",
              "      <td>3</td>\n",
              "      <td>0.804845</td>\n",
              "      <td>1.156956</td>\n",
              "      <td>1.043933</td>\n",
              "      <td>3.299</td>\n",
              "    </tr>\n",
              "    <tr>\n",
              "      <th>2</th>\n",
              "      <td>NaN</td>\n",
              "      <td>2.400</td>\n",
              "      <td>3</td>\n",
              "      <td>1.526176</td>\n",
              "      <td>1.990969</td>\n",
              "      <td>2.735965</td>\n",
              "      <td>3.690</td>\n",
              "    </tr>\n",
              "    <tr>\n",
              "      <th>3</th>\n",
              "      <td>NaN</td>\n",
              "      <td>1.416</td>\n",
              "      <td>2</td>\n",
              "      <td>1.017324</td>\n",
              "      <td>1.048135</td>\n",
              "      <td>0.873698</td>\n",
              "      <td>2.320</td>\n",
              "    </tr>\n",
              "    <tr>\n",
              "      <th>4</th>\n",
              "      <td>NaN</td>\n",
              "      <td>3.000</td>\n",
              "      <td>4</td>\n",
              "      <td>1.352385</td>\n",
              "      <td>2.118710</td>\n",
              "      <td>2.403007</td>\n",
              "      <td>5.399</td>\n",
              "    </tr>\n",
              "  </tbody>\n",
              "</table>\n",
              "</div>\n",
              "      <button class=\"colab-df-convert\" onclick=\"convertToInteractive('df-442d988f-52d5-4489-805d-d2c28c1bb96f')\"\n",
              "              title=\"Convert this dataframe to an interactive table.\"\n",
              "              style=\"display:none;\">\n",
              "        \n",
              "  <svg xmlns=\"http://www.w3.org/2000/svg\" height=\"24px\"viewBox=\"0 0 24 24\"\n",
              "       width=\"24px\">\n",
              "    <path d=\"M0 0h24v24H0V0z\" fill=\"none\"/>\n",
              "    <path d=\"M18.56 5.44l.94 2.06.94-2.06 2.06-.94-2.06-.94-.94-2.06-.94 2.06-2.06.94zm-11 1L8.5 8.5l.94-2.06 2.06-.94-2.06-.94L8.5 2.5l-.94 2.06-2.06.94zm10 10l.94 2.06.94-2.06 2.06-.94-2.06-.94-.94-2.06-.94 2.06-2.06.94z\"/><path d=\"M17.41 7.96l-1.37-1.37c-.4-.4-.92-.59-1.43-.59-.52 0-1.04.2-1.43.59L10.3 9.45l-7.72 7.72c-.78.78-.78 2.05 0 2.83L4 21.41c.39.39.9.59 1.41.59.51 0 1.02-.2 1.41-.59l7.78-7.78 2.81-2.81c.8-.78.8-2.07 0-2.86zM5.41 20L4 18.59l7.72-7.72 1.47 1.35L5.41 20z\"/>\n",
              "  </svg>\n",
              "      </button>\n",
              "      \n",
              "  <style>\n",
              "    .colab-df-container {\n",
              "      display:flex;\n",
              "      flex-wrap:wrap;\n",
              "      gap: 12px;\n",
              "    }\n",
              "\n",
              "    .colab-df-convert {\n",
              "      background-color: #E8F0FE;\n",
              "      border: none;\n",
              "      border-radius: 50%;\n",
              "      cursor: pointer;\n",
              "      display: none;\n",
              "      fill: #1967D2;\n",
              "      height: 32px;\n",
              "      padding: 0 0 0 0;\n",
              "      width: 32px;\n",
              "    }\n",
              "\n",
              "    .colab-df-convert:hover {\n",
              "      background-color: #E2EBFA;\n",
              "      box-shadow: 0px 1px 2px rgba(60, 64, 67, 0.3), 0px 1px 3px 1px rgba(60, 64, 67, 0.15);\n",
              "      fill: #174EA6;\n",
              "    }\n",
              "\n",
              "    [theme=dark] .colab-df-convert {\n",
              "      background-color: #3B4455;\n",
              "      fill: #D2E3FC;\n",
              "    }\n",
              "\n",
              "    [theme=dark] .colab-df-convert:hover {\n",
              "      background-color: #434B5C;\n",
              "      box-shadow: 0px 1px 3px 1px rgba(0, 0, 0, 0.15);\n",
              "      filter: drop-shadow(0px 1px 2px rgba(0, 0, 0, 0.3));\n",
              "      fill: #FFFFFF;\n",
              "    }\n",
              "  </style>\n",
              "\n",
              "      <script>\n",
              "        const buttonEl =\n",
              "          document.querySelector('#df-442d988f-52d5-4489-805d-d2c28c1bb96f button.colab-df-convert');\n",
              "        buttonEl.style.display =\n",
              "          google.colab.kernel.accessAllowed ? 'block' : 'none';\n",
              "\n",
              "        async function convertToInteractive(key) {\n",
              "          const element = document.querySelector('#df-442d988f-52d5-4489-805d-d2c28c1bb96f');\n",
              "          const dataTable =\n",
              "            await google.colab.kernel.invokeFunction('convertToInteractive',\n",
              "                                                     [key], {});\n",
              "          if (!dataTable) return;\n",
              "\n",
              "          const docLinkHtml = 'Like what you see? Visit the ' +\n",
              "            '<a target=\"_blank\" href=https://colab.research.google.com/notebooks/data_table.ipynb>data table notebook</a>'\n",
              "            + ' to learn more about interactive tables.';\n",
              "          element.innerHTML = '';\n",
              "          dataTable['output_type'] = 'display_data';\n",
              "          await google.colab.output.renderOutput(dataTable, element);\n",
              "          const docLink = document.createElement('div');\n",
              "          docLink.innerHTML = docLinkHtml;\n",
              "          element.appendChild(docLink);\n",
              "        }\n",
              "      </script>\n",
              "    </div>\n",
              "  </div>\n",
              "  "
            ],
            "text/plain": [
              "    0      1  2         3         4         5      6\n",
              "0 NaN  2.104  3  1.214590  1.645454  2.040360  3.999\n",
              "1 NaN  1.600  3  0.804845  1.156956  1.043933  3.299\n",
              "2 NaN  2.400  3  1.526176  1.990969  2.735965  3.690\n",
              "3 NaN  1.416  2  1.017324  1.048135  0.873698  2.320\n",
              "4 NaN  3.000  4  1.352385  2.118710  2.403007  5.399"
            ]
          },
          "execution_count": 108,
          "metadata": {},
          "output_type": "execute_result"
        }
      ],
      "source": [
        "data.head()"
      ]
    },
    {
      "cell_type": "code",
      "execution_count": 109,
      "metadata": {
        "id": "oFob1qcl-0As"
      },
      "outputs": [],
      "source": [
        "data.drop(data.columns[[0]], axis = 1, inplace = True)"
      ]
    },
    {
      "cell_type": "code",
      "execution_count": 110,
      "metadata": {
        "colab": {
          "base_uri": "https://localhost:8080/"
        },
        "id": "UhHL7Yfr_tOO",
        "outputId": "7e4c1efa-9503-45cf-dd63-44d14c2d7462"
      },
      "outputs": [
        {
          "data": {
            "text/plain": [
              "(47, 6)"
            ]
          },
          "execution_count": 110,
          "metadata": {},
          "output_type": "execute_result"
        }
      ],
      "source": [
        "data.shape"
      ]
    },
    {
      "cell_type": "code",
      "execution_count": 111,
      "metadata": {
        "id": "XFC7byA9AlA1"
      },
      "outputs": [],
      "source": [
        "X_train = data.iloc[0:30, :-1]\n",
        "Y_train = data.iloc[0:30:, -1].values.reshape(X_train.shape[0], 1)"
      ]
    },
    {
      "cell_type": "code",
      "execution_count": 112,
      "metadata": {
        "colab": {
          "base_uri": "https://localhost:8080/"
        },
        "id": "UYPqqoXIEhSL",
        "outputId": "bfef73bd-2dc3-4805-fe74-34483f48b528"
      },
      "outputs": [
        {
          "data": {
            "text/plain": [
              "(30, 5)"
            ]
          },
          "execution_count": 112,
          "metadata": {},
          "output_type": "execute_result"
        }
      ],
      "source": [
        "X_train.shape"
      ]
    },
    {
      "cell_type": "code",
      "execution_count": 113,
      "metadata": {
        "colab": {
          "base_uri": "https://localhost:8080/"
        },
        "id": "mRQojsZ9BKhS",
        "outputId": "aa049cab-3e96-4f74-a4d1-d668e20c6ef0"
      },
      "outputs": [
        {
          "data": {
            "text/plain": [
              "(30, 1)"
            ]
          },
          "execution_count": 113,
          "metadata": {},
          "output_type": "execute_result"
        }
      ],
      "source": [
        "Y_train.shape"
      ]
    },
    {
      "cell_type": "code",
      "execution_count": 114,
      "metadata": {
        "id": "XNk9TM7ABX2q"
      },
      "outputs": [],
      "source": [
        "X_test = data.iloc[30:, :-1]\n",
        "Y_test = data.iloc[30:, -1].values.reshape(X_test.shape[0], 1)"
      ]
    },
    {
      "cell_type": "code",
      "execution_count": 115,
      "metadata": {
        "colab": {
          "base_uri": "https://localhost:8080/"
        },
        "id": "77rGwsnEE1Vu",
        "outputId": "2e847613-0459-45da-ff4f-bb2ce61e23f7"
      },
      "outputs": [
        {
          "data": {
            "text/plain": [
              "(17, 5)"
            ]
          },
          "execution_count": 115,
          "metadata": {},
          "output_type": "execute_result"
        }
      ],
      "source": [
        "X_test.shape"
      ]
    },
    {
      "cell_type": "code",
      "execution_count": 116,
      "metadata": {
        "colab": {
          "base_uri": "https://localhost:8080/"
        },
        "id": "oFp0ZOklFtAm",
        "outputId": "36e7ffbd-ba26-4132-cbd5-a937cf805c9c"
      },
      "outputs": [
        {
          "data": {
            "text/plain": [
              "(17, 1)"
            ]
          },
          "execution_count": 116,
          "metadata": {},
          "output_type": "execute_result"
        }
      ],
      "source": [
        "Y_test.shape"
      ]
    },
    {
      "cell_type": "code",
      "execution_count": 252,
      "metadata": {
        "id": "iA2Bhw2uUhkj"
      },
      "outputs": [],
      "source": [
        "EQM = []"
      ]
    },
    {
      "cell_type": "markdown",
      "metadata": {
        "id": "rZFXG0K-Oyr9"
      },
      "source": [
        "Para λ = 0 - Conjunto de treino"
      ]
    },
    {
      "cell_type": "code",
      "execution_count": 253,
      "metadata": {
        "colab": {
          "base_uri": "https://localhost:8080/"
        },
        "id": "dStZiqrfGXJm",
        "outputId": "e0059105-d9af-4fac-89bf-20009f52775c"
      },
      "outputs": [
        {
          "data": {
            "text/plain": [
              "(30, 6)"
            ]
          },
          "execution_count": 253,
          "metadata": {},
          "output_type": "execute_result"
        }
      ],
      "source": [
        "X_train_0 = np.vstack((np.zeros((X_train.shape[0], )), X_train.T)).T\n",
        "X_train_0.shape"
      ]
    },
    {
      "cell_type": "code",
      "execution_count": 254,
      "metadata": {
        "colab": {
          "base_uri": "https://localhost:8080/"
        },
        "id": "vwSrDYnKGmQl",
        "outputId": "17d34699-c62b-4880-e1f2-9814d1ad61b4"
      },
      "outputs": [
        {
          "name": "stderr",
          "output_type": "stream",
          "text": [
            "/usr/local/lib/python3.7/dist-packages/ipykernel_launcher.py:1: FutureWarning: `rcond` parameter will change to the default of machine precision times ``max(M, N)`` where M and N are the input matrix dimensions.\n",
            "To use the future default and silence this warning we advise to pass `rcond=None`, to keep using the old, explicitly pass `rcond=-1`.\n"
          ]
        }
      ],
      "source": [
        "mhat_0, residuals, rank, s = np.linalg.lstsq(X_train_0, Y_train)"
      ]
    },
    {
      "cell_type": "markdown",
      "metadata": {
        "id": "RtLF5tNPPgqH"
      },
      "source": [
        "Coeficientes para λ = 0 "
      ]
    },
    {
      "cell_type": "code",
      "execution_count": 255,
      "metadata": {
        "colab": {
          "base_uri": "https://localhost:8080/"
        },
        "id": "zSELr0xTIwxc",
        "outputId": "4d65c866-e5c4-478a-8665-8dcf8f5618ea"
      },
      "outputs": [
        {
          "data": {
            "text/plain": [
              "array([[ 0.        ],\n",
              "       [ 1.71969464],\n",
              "       [ 0.29941769],\n",
              "       [-0.19665058],\n",
              "       [ 0.05788413],\n",
              "       [-0.49309599]])"
            ]
          },
          "execution_count": 255,
          "metadata": {},
          "output_type": "execute_result"
        }
      ],
      "source": [
        "mhat_0"
      ]
    },
    {
      "cell_type": "code",
      "execution_count": 256,
      "metadata": {
        "id": "6pPzHGnnOTcV"
      },
      "outputs": [],
      "source": [
        "Y_pred_test = np.dot(X_train_0, mhat_0)"
      ]
    },
    {
      "cell_type": "code",
      "execution_count": 257,
      "metadata": {
        "id": "0GV9Fc7KO7s7"
      },
      "outputs": [],
      "source": [
        "erro_quadratico_0 = (Y_train-Y_pred_test) ** 2"
      ]
    },
    {
      "cell_type": "code",
      "execution_count": 259,
      "metadata": {
        "id": "EaCBK3kkPQSE"
      },
      "outputs": [],
      "source": [
        "erro_quadratico_medio_0 = sum(erro_quadratico_0)/len(X_train_0)"
      ]
    },
    {
      "cell_type": "markdown",
      "metadata": {
        "id": "4uXuZI8oPpfd"
      },
      "source": [
        "Erro quadrático médio para λ = 0"
      ]
    },
    {
      "cell_type": "code",
      "execution_count": 260,
      "metadata": {
        "colab": {
          "base_uri": "https://localhost:8080/"
        },
        "id": "9eJps7DOPpzO",
        "outputId": "bb90f88e-5050-49a3-9d05-1fd5ca618c68"
      },
      "outputs": [
        {
          "data": {
            "text/plain": [
              "0.44109318275340625"
            ]
          },
          "execution_count": 260,
          "metadata": {},
          "output_type": "execute_result"
        }
      ],
      "source": [
        "erro_quadratico_medio_0[0]"
      ]
    },
    {
      "cell_type": "code",
      "execution_count": 261,
      "metadata": {
        "id": "Hwe3iyH6UqrK"
      },
      "outputs": [],
      "source": [
        "EQM.append(erro_quadratico_medio_0[0])"
      ]
    },
    {
      "cell_type": "markdown",
      "metadata": {
        "id": "XufMdvKePzWK"
      },
      "source": [
        "Para λ=1 - Conjunto de treino"
      ]
    },
    {
      "cell_type": "code",
      "execution_count": 262,
      "metadata": {
        "colab": {
          "base_uri": "https://localhost:8080/"
        },
        "id": "Kut-EMhtP33U",
        "outputId": "60e91742-5829-494d-9a5e-a541b976d54b"
      },
      "outputs": [
        {
          "data": {
            "text/plain": [
              "(30, 6)"
            ]
          },
          "execution_count": 262,
          "metadata": {},
          "output_type": "execute_result"
        }
      ],
      "source": [
        "X_train_1 = np.vstack((np.ones((X_train.shape[0], )), X_train.T)).T\n",
        "X_train_1.shape"
      ]
    },
    {
      "cell_type": "code",
      "execution_count": 263,
      "metadata": {
        "colab": {
          "base_uri": "https://localhost:8080/"
        },
        "id": "Wj8WNcX5P_Ro",
        "outputId": "d9c25702-31c9-4f05-fdf2-bfb2fcff0160"
      },
      "outputs": [
        {
          "name": "stderr",
          "output_type": "stream",
          "text": [
            "/usr/local/lib/python3.7/dist-packages/ipykernel_launcher.py:1: FutureWarning: `rcond` parameter will change to the default of machine precision times ``max(M, N)`` where M and N are the input matrix dimensions.\n",
            "To use the future default and silence this warning we advise to pass `rcond=None`, to keep using the old, explicitly pass `rcond=-1`.\n"
          ]
        }
      ],
      "source": [
        "mhat_1, residuals, rank, s = np.linalg.lstsq(X_train_1, Y_train)"
      ]
    },
    {
      "cell_type": "code",
      "execution_count": 264,
      "metadata": {
        "colab": {
          "base_uri": "https://localhost:8080/"
        },
        "id": "sRzGqZrhRrIV",
        "outputId": "438bf02e-463d-43a6-b3e3-f77930a810d4"
      },
      "outputs": [
        {
          "data": {
            "text/plain": [
              "array([[ 0.79298919],\n",
              "       [ 2.05650083],\n",
              "       [ 0.12143939],\n",
              "       [-1.16137913],\n",
              "       [ 0.06272863],\n",
              "       [-0.39110215]])"
            ]
          },
          "execution_count": 264,
          "metadata": {},
          "output_type": "execute_result"
        }
      ],
      "source": [
        "mhat_1"
      ]
    },
    {
      "cell_type": "code",
      "execution_count": 265,
      "metadata": {
        "id": "rfdjYVM0QEzt"
      },
      "outputs": [],
      "source": [
        "Y_pred_test = np.dot(X_train_1, mhat_1)"
      ]
    },
    {
      "cell_type": "code",
      "execution_count": 266,
      "metadata": {
        "id": "iTk9zFSMQIbP"
      },
      "outputs": [],
      "source": [
        "erro_quadratico_1 = (Y_train-Y_pred_test) ** 2"
      ]
    },
    {
      "cell_type": "code",
      "execution_count": 267,
      "metadata": {
        "id": "8WAkxT7zQNgB"
      },
      "outputs": [],
      "source": [
        "erro_quadratico_medio_1 = sum(erro_quadratico_1)/len(X_train_1)"
      ]
    },
    {
      "cell_type": "code",
      "execution_count": 268,
      "metadata": {
        "id": "_OkogWc2Uwdd"
      },
      "outputs": [],
      "source": [
        "EQM.append(erro_quadratico_medio_1[0])"
      ]
    },
    {
      "cell_type": "markdown",
      "metadata": {
        "id": "F4Nh_cldQVMF"
      },
      "source": [
        "Para λ=2 - Conjunto de treino"
      ]
    },
    {
      "cell_type": "code",
      "execution_count": 269,
      "metadata": {
        "colab": {
          "base_uri": "https://localhost:8080/"
        },
        "id": "GHASzNkCQX7X",
        "outputId": "4ec09c5b-6c0f-4587-f2cf-78cc9f10507c"
      },
      "outputs": [
        {
          "data": {
            "text/plain": [
              "(30, 6)"
            ]
          },
          "execution_count": 269,
          "metadata": {},
          "output_type": "execute_result"
        }
      ],
      "source": [
        "X_train_2 = np.vstack((np.full((X_train.shape[0], ), 2), X_train.T)).T\n",
        "X_train_2.shape"
      ]
    },
    {
      "cell_type": "code",
      "execution_count": 270,
      "metadata": {
        "colab": {
          "base_uri": "https://localhost:8080/"
        },
        "id": "7gkB8oP-QsKL",
        "outputId": "9c7bd277-dcc5-49e0-ef9d-0686f7278694"
      },
      "outputs": [
        {
          "name": "stderr",
          "output_type": "stream",
          "text": [
            "/usr/local/lib/python3.7/dist-packages/ipykernel_launcher.py:1: FutureWarning: `rcond` parameter will change to the default of machine precision times ``max(M, N)`` where M and N are the input matrix dimensions.\n",
            "To use the future default and silence this warning we advise to pass `rcond=None`, to keep using the old, explicitly pass `rcond=-1`.\n"
          ]
        }
      ],
      "source": [
        "mhat_2, residuals, rank, s = np.linalg.lstsq(X_train_2, Y_train)"
      ]
    },
    {
      "cell_type": "code",
      "execution_count": 271,
      "metadata": {
        "colab": {
          "base_uri": "https://localhost:8080/"
        },
        "id": "n-IIiligRtlf",
        "outputId": "440bf501-2e6e-46bd-e127-64b54c9335b9"
      },
      "outputs": [
        {
          "data": {
            "text/plain": [
              "array([[ 0.39649459],\n",
              "       [ 2.05650083],\n",
              "       [ 0.12143939],\n",
              "       [-1.16137913],\n",
              "       [ 0.06272863],\n",
              "       [-0.39110215]])"
            ]
          },
          "execution_count": 271,
          "metadata": {},
          "output_type": "execute_result"
        }
      ],
      "source": [
        "mhat_2"
      ]
    },
    {
      "cell_type": "code",
      "execution_count": 272,
      "metadata": {
        "id": "hubfKrYnQ0AP"
      },
      "outputs": [],
      "source": [
        "Y_pred_test = np.dot(X_train_2, mhat_2)"
      ]
    },
    {
      "cell_type": "code",
      "execution_count": 273,
      "metadata": {
        "id": "OOp83R46RDQQ"
      },
      "outputs": [],
      "source": [
        "erro_quadratico_2 = (Y_train-Y_pred_test) ** 2"
      ]
    },
    {
      "cell_type": "code",
      "execution_count": 274,
      "metadata": {
        "id": "_i53hj6jRWTr"
      },
      "outputs": [],
      "source": [
        "erro_quadratico_medio_2 = sum(erro_quadratico_2)/len(X_train_2)"
      ]
    },
    {
      "cell_type": "code",
      "execution_count": 275,
      "metadata": {
        "id": "tnBEm6AuU1lw"
      },
      "outputs": [],
      "source": [
        "EQM.append(erro_quadratico_medio_2[0])"
      ]
    },
    {
      "cell_type": "markdown",
      "metadata": {
        "id": "Pk5xVd3GRciN"
      },
      "source": [
        "Para λ=3 - Conjunto de treino"
      ]
    },
    {
      "cell_type": "code",
      "execution_count": 276,
      "metadata": {
        "colab": {
          "base_uri": "https://localhost:8080/"
        },
        "id": "3OmuROcvRad5",
        "outputId": "1cec607f-6095-408d-937b-ea64c506284a"
      },
      "outputs": [
        {
          "data": {
            "text/plain": [
              "(30, 6)"
            ]
          },
          "execution_count": 276,
          "metadata": {},
          "output_type": "execute_result"
        }
      ],
      "source": [
        "X_train_3 = np.vstack((np.full((X_train.shape[0], ), 3), X_train.T)).T\n",
        "X_train_3.shape"
      ]
    },
    {
      "cell_type": "code",
      "execution_count": 277,
      "metadata": {
        "colab": {
          "base_uri": "https://localhost:8080/"
        },
        "id": "tyu-BWTlSKF3",
        "outputId": "65fb6a24-46e5-4b22-a155-ea9bfc1f8681"
      },
      "outputs": [
        {
          "name": "stderr",
          "output_type": "stream",
          "text": [
            "/usr/local/lib/python3.7/dist-packages/ipykernel_launcher.py:1: FutureWarning: `rcond` parameter will change to the default of machine precision times ``max(M, N)`` where M and N are the input matrix dimensions.\n",
            "To use the future default and silence this warning we advise to pass `rcond=None`, to keep using the old, explicitly pass `rcond=-1`.\n"
          ]
        }
      ],
      "source": [
        "mhat_3, residuals, rank, s = np.linalg.lstsq(X_train_3, Y_train)"
      ]
    },
    {
      "cell_type": "code",
      "execution_count": 278,
      "metadata": {
        "colab": {
          "base_uri": "https://localhost:8080/"
        },
        "id": "EzlBPCOnSOdp",
        "outputId": "f90a02b5-28f0-4e3a-def2-0b8ebb9ca37b"
      },
      "outputs": [
        {
          "data": {
            "text/plain": [
              "array([[ 0.26432973],\n",
              "       [ 2.05650083],\n",
              "       [ 0.12143939],\n",
              "       [-1.16137913],\n",
              "       [ 0.06272863],\n",
              "       [-0.39110215]])"
            ]
          },
          "execution_count": 278,
          "metadata": {},
          "output_type": "execute_result"
        }
      ],
      "source": [
        "mhat_3"
      ]
    },
    {
      "cell_type": "code",
      "execution_count": 279,
      "metadata": {
        "id": "6poDVzHGSTU0"
      },
      "outputs": [],
      "source": [
        "Y_pred_test = np.dot(X_train_3, mhat_3)"
      ]
    },
    {
      "cell_type": "code",
      "execution_count": 280,
      "metadata": {
        "id": "85xZ1opYSYfX"
      },
      "outputs": [],
      "source": [
        "erro_quadratico_3 = (Y_train-Y_pred_test) ** 2"
      ]
    },
    {
      "cell_type": "code",
      "execution_count": 281,
      "metadata": {
        "id": "9FgOM5_5ScIx"
      },
      "outputs": [],
      "source": [
        "erro_quadratico_medio_3 = sum(erro_quadratico_3)/len(X_train_3)"
      ]
    },
    {
      "cell_type": "code",
      "execution_count": 282,
      "metadata": {
        "id": "7UxRLn9jU595"
      },
      "outputs": [],
      "source": [
        "EQM.append(erro_quadratico_medio_3[0])"
      ]
    },
    {
      "cell_type": "markdown",
      "metadata": {
        "id": "GAZz8fLTSgis"
      },
      "source": [
        "Para λ=4 - Conjunto de treino"
      ]
    },
    {
      "cell_type": "code",
      "execution_count": 283,
      "metadata": {
        "colab": {
          "base_uri": "https://localhost:8080/"
        },
        "id": "UE3ku-bwSjhx",
        "outputId": "0a55cbc1-adb3-448d-90c9-231ccb937505"
      },
      "outputs": [
        {
          "data": {
            "text/plain": [
              "(30, 6)"
            ]
          },
          "execution_count": 283,
          "metadata": {},
          "output_type": "execute_result"
        }
      ],
      "source": [
        "X_train_4 = np.vstack((np.full((X_train.shape[0], ), 4), X_train.T)).T\n",
        "X_train_4.shape"
      ]
    },
    {
      "cell_type": "code",
      "execution_count": 284,
      "metadata": {
        "colab": {
          "base_uri": "https://localhost:8080/"
        },
        "id": "FYTbX7g1SmWf",
        "outputId": "1a3efee4-957a-4478-d7be-893f65f767f1"
      },
      "outputs": [
        {
          "name": "stderr",
          "output_type": "stream",
          "text": [
            "/usr/local/lib/python3.7/dist-packages/ipykernel_launcher.py:1: FutureWarning: `rcond` parameter will change to the default of machine precision times ``max(M, N)`` where M and N are the input matrix dimensions.\n",
            "To use the future default and silence this warning we advise to pass `rcond=None`, to keep using the old, explicitly pass `rcond=-1`.\n"
          ]
        }
      ],
      "source": [
        "mhat_4, residuals, rank, s = np.linalg.lstsq(X_train_4, Y_train)"
      ]
    },
    {
      "cell_type": "code",
      "execution_count": 285,
      "metadata": {
        "colab": {
          "base_uri": "https://localhost:8080/"
        },
        "id": "z0kY6kLGSt6V",
        "outputId": "706d280a-2ac1-44ff-b07a-b588f1fc4808"
      },
      "outputs": [
        {
          "data": {
            "text/plain": [
              "array([[ 0.1982473 ],\n",
              "       [ 2.05650083],\n",
              "       [ 0.12143939],\n",
              "       [-1.16137913],\n",
              "       [ 0.06272863],\n",
              "       [-0.39110215]])"
            ]
          },
          "execution_count": 285,
          "metadata": {},
          "output_type": "execute_result"
        }
      ],
      "source": [
        "mhat_4"
      ]
    },
    {
      "cell_type": "code",
      "execution_count": 286,
      "metadata": {
        "id": "ixoZnDwmSvNc"
      },
      "outputs": [],
      "source": [
        "Y_pred_test = np.dot(X_train_4, mhat_4)"
      ]
    },
    {
      "cell_type": "code",
      "execution_count": 287,
      "metadata": {
        "id": "5a1nhjvqSz7G"
      },
      "outputs": [],
      "source": [
        "erro_quadratico_4 = (Y_train-Y_pred_test) ** 2"
      ]
    },
    {
      "cell_type": "code",
      "execution_count": 288,
      "metadata": {
        "id": "9Zu4HS7YS7v7"
      },
      "outputs": [],
      "source": [
        "erro_quadratico_medio_4 = sum(erro_quadratico_4)/len(X_train_4)"
      ]
    },
    {
      "cell_type": "code",
      "execution_count": 289,
      "metadata": {
        "id": "i4_21JALV4R9"
      },
      "outputs": [],
      "source": [
        "EQM.append(erro_quadratico_medio_4[0])"
      ]
    },
    {
      "cell_type": "markdown",
      "metadata": {
        "id": "qXadRmk5TBIe"
      },
      "source": [
        "Para λ=5 - Conjunto de treino"
      ]
    },
    {
      "cell_type": "code",
      "execution_count": 290,
      "metadata": {
        "colab": {
          "base_uri": "https://localhost:8080/"
        },
        "id": "gEPW-5J1TEhR",
        "outputId": "739c770b-83e4-4267-b49a-992580eb6f1a"
      },
      "outputs": [
        {
          "data": {
            "text/plain": [
              "(30, 6)"
            ]
          },
          "execution_count": 290,
          "metadata": {},
          "output_type": "execute_result"
        }
      ],
      "source": [
        "X_train_5 = np.vstack((np.full((X_train.shape[0], ), 5), X_train.T)).T\n",
        "X_train_5.shape"
      ]
    },
    {
      "cell_type": "code",
      "execution_count": 291,
      "metadata": {
        "colab": {
          "base_uri": "https://localhost:8080/"
        },
        "id": "rQWWm4QfTH0L",
        "outputId": "c3e4f9c9-50eb-4022-a155-cd5659a92db8"
      },
      "outputs": [
        {
          "name": "stderr",
          "output_type": "stream",
          "text": [
            "/usr/local/lib/python3.7/dist-packages/ipykernel_launcher.py:1: FutureWarning: `rcond` parameter will change to the default of machine precision times ``max(M, N)`` where M and N are the input matrix dimensions.\n",
            "To use the future default and silence this warning we advise to pass `rcond=None`, to keep using the old, explicitly pass `rcond=-1`.\n"
          ]
        }
      ],
      "source": [
        "mhat_5, residuals, rank, s = np.linalg.lstsq(X_train_4, Y_train)"
      ]
    },
    {
      "cell_type": "code",
      "execution_count": 292,
      "metadata": {
        "colab": {
          "base_uri": "https://localhost:8080/"
        },
        "id": "6w7cr0kKTJjU",
        "outputId": "a0ec7fd4-5a23-4757-a887-876e812ec029"
      },
      "outputs": [
        {
          "data": {
            "text/plain": [
              "array([[ 0.1982473 ],\n",
              "       [ 2.05650083],\n",
              "       [ 0.12143939],\n",
              "       [-1.16137913],\n",
              "       [ 0.06272863],\n",
              "       [-0.39110215]])"
            ]
          },
          "execution_count": 292,
          "metadata": {},
          "output_type": "execute_result"
        }
      ],
      "source": [
        "mhat_5"
      ]
    },
    {
      "cell_type": "code",
      "execution_count": 293,
      "metadata": {
        "id": "rAXogS3fTMXt"
      },
      "outputs": [],
      "source": [
        "Y_pred_test = np.dot(X_train_5, mhat_5)"
      ]
    },
    {
      "cell_type": "code",
      "execution_count": 294,
      "metadata": {
        "id": "F0OjxM2TTREo"
      },
      "outputs": [],
      "source": [
        "erro_quadratico_5 = (Y_train-Y_pred_test) ** 2"
      ]
    },
    {
      "cell_type": "code",
      "execution_count": 295,
      "metadata": {
        "id": "YlcSdqrsTUKY"
      },
      "outputs": [],
      "source": [
        "erro_quadratico_medio_5 = sum(erro_quadratico_5)/len(X_train_5)"
      ]
    },
    {
      "cell_type": "code",
      "execution_count": 296,
      "metadata": {
        "id": "PY2SsTDcVAdF"
      },
      "outputs": [],
      "source": [
        "EQM.append(erro_quadratico_medio_5[0])"
      ]
    },
    {
      "cell_type": "markdown",
      "metadata": {
        "id": "UmESzLLXTcoV"
      },
      "source": [
        "Gráfico de EQC X λ (CONJUNTO DE TREINO)"
      ]
    },
    {
      "cell_type": "code",
      "execution_count": 299,
      "metadata": {
        "colab": {
          "base_uri": "https://localhost:8080/",
          "height": 287
        },
        "id": "dZl_4RnKTvaJ",
        "outputId": "bc1098cf-ecdb-47ea-ab20-a74e9b6ae2ee"
      },
      "outputs": [
        {
          "data": {
            "image/png": "[encoded data removed]",
            "text/plain": [
              "<Figure size 432x288 with 1 Axes>"
            ]
          },
          "metadata": {
            "needs_background": "light"
          },
          "output_type": "display_data"
        }
      ],
      "source": [
        "plt.bar(np.arange(6),EQM)\n",
        "plt.ylabel('EQM', fontsize=18)\n",
        "plt.xlabel('λ', fontsize=18)\n",
        "plt.show()"
      ]
    },
    {
      "cell_type": "code",
      "execution_count": 412,
      "metadata": {
        "id": "Qkxm9gg5w7NQ"
      },
      "outputs": [],
      "source": [
        "EQM = []"
      ]
    },
    {
      "cell_type": "markdown",
      "metadata": {
        "id": "J2J3LrEpxy1Y"
      },
      "source": [
        "Para λ = 0"
      ]
    },
    {
      "cell_type": "code",
      "execution_count": 413,
      "metadata": {
        "colab": {
          "base_uri": "https://localhost:8080/"
        },
        "id": "iLkaSiZ2XCWn",
        "outputId": "d6219435-d7d8-477d-b242-d703038b13a8"
      },
      "outputs": [
        {
          "data": {
            "text/plain": [
              "(17, 6)"
            ]
          },
          "execution_count": 413,
          "metadata": {},
          "output_type": "execute_result"
        }
      ],
      "source": [
        "X_test_0 = np.vstack((np.zeros((X_test.shape[0], )), X_test.T)).T\n",
        "X_test_0.shape"
      ]
    },
    {
      "cell_type": "code",
      "execution_count": 414,
      "metadata": {
        "colab": {
          "base_uri": "https://localhost:8080/"
        },
        "id": "28JeGTYtwSjC",
        "outputId": "23c6c9a1-48bb-4160-9335-996c7ad3ee72"
      },
      "outputs": [
        {
          "name": "stderr",
          "output_type": "stream",
          "text": [
            "/usr/local/lib/python3.7/dist-packages/ipykernel_launcher.py:1: FutureWarning: `rcond` parameter will change to the default of machine precision times ``max(M, N)`` where M and N are the input matrix dimensions.\n",
            "To use the future default and silence this warning we advise to pass `rcond=None`, to keep using the old, explicitly pass `rcond=-1`.\n"
          ]
        }
      ],
      "source": [
        "mhat_t_0, residuals, rank, s = np.linalg.lstsq(X_test_0, Y_test)"
      ]
    },
    {
      "cell_type": "code",
      "execution_count": 415,
      "metadata": {
        "colab": {
          "base_uri": "https://localhost:8080/"
        },
        "id": "4xDEuI65wdwX",
        "outputId": "1b515cf8-85ce-4e6c-d671-2e6161b3d74a"
      },
      "outputs": [
        {
          "data": {
            "text/plain": [
              "array([[ 0.        ],\n",
              "       [ 0.30703476],\n",
              "       [ 0.00827681],\n",
              "       [ 1.91958786],\n",
              "       [-0.1322147 ],\n",
              "       [ 0.47658319]])"
            ]
          },
          "execution_count": 415,
          "metadata": {},
          "output_type": "execute_result"
        }
      ],
      "source": [
        "mhat_t_0"
      ]
    },
    {
      "cell_type": "code",
      "execution_count": 416,
      "metadata": {
        "id": "hepgyrWMwgVI"
      },
      "outputs": [],
      "source": [
        "Y_pred_test = np.dot(X_test_0, mhat_t_0)"
      ]
    },
    {
      "cell_type": "code",
      "execution_count": 417,
      "metadata": {
        "id": "9dV3N-b6wq_I"
      },
      "outputs": [],
      "source": [
        "erro_quadratico_t_0 = (Y_test-Y_pred_test) ** 2"
      ]
    },
    {
      "cell_type": "code",
      "execution_count": 418,
      "metadata": {
        "id": "FVX4o1a7wxiS"
      },
      "outputs": [],
      "source": [
        "erro_quadratico_medio_t_0 = sum(erro_quadratico_t_0)/len(X_test_0)"
      ]
    },
    {
      "cell_type": "code",
      "execution_count": 419,
      "metadata": {
        "id": "I9zfVSmtw90x"
      },
      "outputs": [],
      "source": [
        "EQM.append(erro_quadratico_medio_t_0[0])"
      ]
    },
    {
      "cell_type": "markdown",
      "metadata": {
        "id": "FnegSgAzxEBF"
      },
      "source": [
        "Para λ = 1"
      ]
    },
    {
      "cell_type": "code",
      "execution_count": 420,
      "metadata": {
        "colab": {
          "base_uri": "https://localhost:8080/"
        },
        "id": "rMTdYvhMxONs",
        "outputId": "da8eabe8-3149-4681-a521-2a94115291c8"
      },
      "outputs": [
        {
          "data": {
            "text/plain": [
              "(17, 6)"
            ]
          },
          "execution_count": 420,
          "metadata": {},
          "output_type": "execute_result"
        }
      ],
      "source": [
        "X_test_1 = np.vstack((np.ones((X_test.shape[0], )), X_test.T)).T\n",
        "X_test_1.shape"
      ]
    },
    {
      "cell_type": "code",
      "execution_count": 421,
      "metadata": {
        "colab": {
          "base_uri": "https://localhost:8080/"
        },
        "id": "5Vi4L4lkxZEx",
        "outputId": "e1942fe0-9af9-4773-d756-f5308babb0bd"
      },
      "outputs": [
        {
          "name": "stderr",
          "output_type": "stream",
          "text": [
            "/usr/local/lib/python3.7/dist-packages/ipykernel_launcher.py:1: FutureWarning: `rcond` parameter will change to the default of machine precision times ``max(M, N)`` where M and N are the input matrix dimensions.\n",
            "To use the future default and silence this warning we advise to pass `rcond=None`, to keep using the old, explicitly pass `rcond=-1`.\n"
          ]
        }
      ],
      "source": [
        "mhat_t_1, residuals, rank, s = np.linalg.lstsq(X_test_1, Y_test)"
      ]
    },
    {
      "cell_type": "code",
      "execution_count": 422,
      "metadata": {
        "colab": {
          "base_uri": "https://localhost:8080/"
        },
        "id": "oHDqqv_JxeT7",
        "outputId": "7dd42991-ae6f-470d-fd2f-b24ae710b1f1"
      },
      "outputs": [
        {
          "data": {
            "text/plain": [
              "array([[ 1.60593863],\n",
              "       [ 1.41461821],\n",
              "       [-0.23448528],\n",
              "       [-0.15820172],\n",
              "       [-0.25151207],\n",
              "       [ 0.0996189 ]])"
            ]
          },
          "execution_count": 422,
          "metadata": {},
          "output_type": "execute_result"
        }
      ],
      "source": [
        "mhat_t_1"
      ]
    },
    {
      "cell_type": "code",
      "execution_count": 423,
      "metadata": {
        "id": "9NdJLzUPxfl8"
      },
      "outputs": [],
      "source": [
        "Y_pred_test = np.dot(X_test_1, mhat_t_1)"
      ]
    },
    {
      "cell_type": "code",
      "execution_count": 424,
      "metadata": {
        "id": "I9XTid81xlww"
      },
      "outputs": [],
      "source": [
        "erro_quadratico_t_1 = (Y_test-Y_pred_test) ** 2"
      ]
    },
    {
      "cell_type": "code",
      "execution_count": 425,
      "metadata": {
        "id": "4P6QriMCxnpZ"
      },
      "outputs": [],
      "source": [
        "erro_quadratico_medio_t_1 = sum(erro_quadratico_t_1)/len(X_test_1)"
      ]
    },
    {
      "cell_type": "code",
      "execution_count": 426,
      "metadata": {
        "id": "uPmEHWw4xplB"
      },
      "outputs": [],
      "source": [
        "EQM.append(erro_quadratico_medio_t_1[0])"
      ]
    },
    {
      "cell_type": "markdown",
      "metadata": {
        "id": "vri2wym2yK39"
      },
      "source": [
        "Para λ = 2"
      ]
    },
    {
      "cell_type": "code",
      "execution_count": 427,
      "metadata": {
        "colab": {
          "base_uri": "https://localhost:8080/"
        },
        "id": "lkrHv79DyU2J",
        "outputId": "84fb257c-b81d-4bf7-8691-de43eaee2e37"
      },
      "outputs": [
        {
          "data": {
            "text/plain": [
              "(17, 6)"
            ]
          },
          "execution_count": 427,
          "metadata": {},
          "output_type": "execute_result"
        }
      ],
      "source": [
        "X_test_2 = np.vstack((np.full((X_test.shape[0], ), 2), X_test.T)).T\n",
        "X_test_2.shape"
      ]
    },
    {
      "cell_type": "code",
      "execution_count": 428,
      "metadata": {
        "colab": {
          "base_uri": "https://localhost:8080/"
        },
        "id": "KB_FULsYye8Y",
        "outputId": "1c0418af-f6ec-4036-d661-f8bd7ba4052b"
      },
      "outputs": [
        {
          "name": "stderr",
          "output_type": "stream",
          "text": [
            "/usr/local/lib/python3.7/dist-packages/ipykernel_launcher.py:1: FutureWarning: `rcond` parameter will change to the default of machine precision times ``max(M, N)`` where M and N are the input matrix dimensions.\n",
            "To use the future default and silence this warning we advise to pass `rcond=None`, to keep using the old, explicitly pass `rcond=-1`.\n"
          ]
        }
      ],
      "source": [
        "mhat_t_2, residuals, rank, s = np.linalg.lstsq(X_test_2, Y_test)"
      ]
    },
    {
      "cell_type": "code",
      "execution_count": 429,
      "metadata": {
        "colab": {
          "base_uri": "https://localhost:8080/"
        },
        "id": "_5Sa2JrvyfMX",
        "outputId": "d1fa912b-bccb-4f9b-db61-06a2e9f61370"
      },
      "outputs": [
        {
          "data": {
            "text/plain": [
              "array([[ 0.80296931],\n",
              "       [ 1.41461821],\n",
              "       [-0.23448528],\n",
              "       [-0.15820172],\n",
              "       [-0.25151207],\n",
              "       [ 0.0996189 ]])"
            ]
          },
          "execution_count": 429,
          "metadata": {},
          "output_type": "execute_result"
        }
      ],
      "source": [
        "mhat_t_2"
      ]
    },
    {
      "cell_type": "code",
      "execution_count": 430,
      "metadata": {
        "id": "SovCW7V1yfQy"
      },
      "outputs": [],
      "source": [
        "Y_pred_test = np.dot(X_test_2, mhat_t_2)"
      ]
    },
    {
      "cell_type": "code",
      "execution_count": 431,
      "metadata": {
        "id": "btd_PcMeyfTP"
      },
      "outputs": [],
      "source": [
        "erro_quadratico_t_2 = (Y_test-Y_pred_test) ** 2"
      ]
    },
    {
      "cell_type": "code",
      "execution_count": 432,
      "metadata": {
        "id": "0KHrRe-eyuVB"
      },
      "outputs": [],
      "source": [
        "erro_quadratico_medio_t_2 = sum(erro_quadratico_t_2)/len(X_test_2)"
      ]
    },
    {
      "cell_type": "code",
      "execution_count": 433,
      "metadata": {
        "id": "HsXgMdK-y3Km"
      },
      "outputs": [],
      "source": [
        "EQM.append(erro_quadratico_medio_t_2[0])"
      ]
    },
    {
      "cell_type": "markdown",
      "metadata": {
        "id": "h2pVm0KlzAob"
      },
      "source": [
        "Para λ = 3"
      ]
    },
    {
      "cell_type": "code",
      "execution_count": 434,
      "metadata": {
        "colab": {
          "base_uri": "https://localhost:8080/"
        },
        "id": "AXNLOZJAzE1u",
        "outputId": "1eb30ea8-3f39-4892-9a02-7bb9fdac5bce"
      },
      "outputs": [
        {
          "data": {
            "text/plain": [
              "(17, 6)"
            ]
          },
          "execution_count": 434,
          "metadata": {},
          "output_type": "execute_result"
        }
      ],
      "source": [
        "X_test_3 = np.vstack((np.full((X_test.shape[0], ), 3), X_test.T)).T\n",
        "X_test_3.shape"
      ]
    },
    {
      "cell_type": "code",
      "execution_count": 435,
      "metadata": {
        "colab": {
          "base_uri": "https://localhost:8080/"
        },
        "id": "QlVhArvnzE9t",
        "outputId": "835998f0-5c6e-4430-9c6d-fa512d931740"
      },
      "outputs": [
        {
          "name": "stderr",
          "output_type": "stream",
          "text": [
            "/usr/local/lib/python3.7/dist-packages/ipykernel_launcher.py:1: FutureWarning: `rcond` parameter will change to the default of machine precision times ``max(M, N)`` where M and N are the input matrix dimensions.\n",
            "To use the future default and silence this warning we advise to pass `rcond=None`, to keep using the old, explicitly pass `rcond=-1`.\n"
          ]
        }
      ],
      "source": [
        "mhat_t_3, residuals, rank, s = np.linalg.lstsq(X_test_3, Y_test)"
      ]
    },
    {
      "cell_type": "code",
      "execution_count": 436,
      "metadata": {
        "colab": {
          "base_uri": "https://localhost:8080/"
        },
        "id": "qfFWg0mIzFBM",
        "outputId": "0021c10b-3c55-45e8-b7b3-c741622c50c4"
      },
      "outputs": [
        {
          "data": {
            "text/plain": [
              "array([[ 0.53531288],\n",
              "       [ 1.41461821],\n",
              "       [-0.23448528],\n",
              "       [-0.15820172],\n",
              "       [-0.25151207],\n",
              "       [ 0.0996189 ]])"
            ]
          },
          "execution_count": 436,
          "metadata": {},
          "output_type": "execute_result"
        }
      ],
      "source": [
        "mhat_t_3"
      ]
    },
    {
      "cell_type": "code",
      "execution_count": 437,
      "metadata": {
        "id": "Bqhl5GmBzFEE"
      },
      "outputs": [],
      "source": [
        "Y_pred_test = np.dot(X_test_3, mhat_t_3)"
      ]
    },
    {
      "cell_type": "code",
      "execution_count": 438,
      "metadata": {
        "id": "loilGbb5zFGZ"
      },
      "outputs": [],
      "source": [
        "erro_quadratico_t_3 = (Y_test-Y_pred_test) ** 2"
      ]
    },
    {
      "cell_type": "code",
      "execution_count": 439,
      "metadata": {
        "id": "9qteT2eIzFM1"
      },
      "outputs": [],
      "source": [
        "erro_quadratico_medio_t_3 = sum(erro_quadratico_t_3)/len(X_test_3)"
      ]
    },
    {
      "cell_type": "code",
      "execution_count": 440,
      "metadata": {
        "id": "ujDulzj3zb-L"
      },
      "outputs": [],
      "source": [
        "EQM.append(erro_quadratico_medio_t_3[0])"
      ]
    },
    {
      "cell_type": "markdown",
      "metadata": {
        "id": "MumPPX1MzeRM"
      },
      "source": [
        "Para λ = 4"
      ]
    },
    {
      "cell_type": "code",
      "execution_count": 441,
      "metadata": {
        "colab": {
          "base_uri": "https://localhost:8080/"
        },
        "id": "8iaG-YEYzgmd",
        "outputId": "3e5fa284-8339-44ac-9523-33343d8355e0"
      },
      "outputs": [
        {
          "data": {
            "text/plain": [
              "(17, 6)"
            ]
          },
          "execution_count": 441,
          "metadata": {},
          "output_type": "execute_result"
        }
      ],
      "source": [
        "X_test_4 = np.vstack((np.full((X_test.shape[0], ), 4), X_test.T)).T\n",
        "X_test_4.shape"
      ]
    },
    {
      "cell_type": "code",
      "execution_count": 442,
      "metadata": {
        "colab": {
          "base_uri": "https://localhost:8080/"
        },
        "id": "PnDTjVxIzgo0",
        "outputId": "2b93851f-5c0d-49f8-bab3-3af077eaab8f"
      },
      "outputs": [
        {
          "name": "stderr",
          "output_type": "stream",
          "text": [
            "/usr/local/lib/python3.7/dist-packages/ipykernel_launcher.py:1: FutureWarning: `rcond` parameter will change to the default of machine precision times ``max(M, N)`` where M and N are the input matrix dimensions.\n",
            "To use the future default and silence this warning we advise to pass `rcond=None`, to keep using the old, explicitly pass `rcond=-1`.\n"
          ]
        }
      ],
      "source": [
        "mhat_t_4, residuals, rank, s = np.linalg.lstsq(X_test_4, Y_test)"
      ]
    },
    {
      "cell_type": "code",
      "execution_count": 443,
      "metadata": {
        "colab": {
          "base_uri": "https://localhost:8080/"
        },
        "id": "Pl7kK196zgrP",
        "outputId": "e74f0e87-27d8-4982-c1ba-afcbe9a4cd40"
      },
      "outputs": [
        {
          "data": {
            "text/plain": [
              "array([[ 0.40148466],\n",
              "       [ 1.41461821],\n",
              "       [-0.23448528],\n",
              "       [-0.15820172],\n",
              "       [-0.25151207],\n",
              "       [ 0.0996189 ]])"
            ]
          },
          "execution_count": 443,
          "metadata": {},
          "output_type": "execute_result"
        }
      ],
      "source": [
        "mhat_t_4"
      ]
    },
    {
      "cell_type": "code",
      "execution_count": 444,
      "metadata": {
        "id": "Z3IIsAn6zgto"
      },
      "outputs": [],
      "source": [
        "Y_pred_test = np.dot(X_test_4, mhat_t_4)"
      ]
    },
    {
      "cell_type": "code",
      "execution_count": 445,
      "metadata": {
        "id": "DenhPIlDzgvz"
      },
      "outputs": [],
      "source": [
        "erro_quadratico_t_4 = (Y_test-Y_pred_test) ** 2"
      ]
    },
    {
      "cell_type": "code",
      "execution_count": 446,
      "metadata": {
        "id": "qNYPN4p4zgyB"
      },
      "outputs": [],
      "source": [
        "erro_quadratico_medio_t_4 = sum(erro_quadratico_t_4)/len(X_test_4)"
      ]
    },
    {
      "cell_type": "code",
      "execution_count": 447,
      "metadata": {
        "id": "3irB2RC7zg3U"
      },
      "outputs": [],
      "source": [
        "EQM.append(erro_quadratico_medio_t_4[0])"
      ]
    },
    {
      "cell_type": "markdown",
      "metadata": {
        "id": "LJqmfq4lzxi3"
      },
      "source": [
        "Para λ = 5"
      ]
    },
    {
      "cell_type": "code",
      "execution_count": 448,
      "metadata": {
        "colab": {
          "base_uri": "https://localhost:8080/"
        },
        "id": "hVxUhbIVzzoR",
        "outputId": "b3c170cb-7aff-4ea4-f0f3-a44dcb03e2d7"
      },
      "outputs": [
        {
          "data": {
            "text/plain": [
              "(17, 6)"
            ]
          },
          "execution_count": 448,
          "metadata": {},
          "output_type": "execute_result"
        }
      ],
      "source": [
        "X_test_5 = np.vstack((np.full((X_test.shape[0], ), 5), X_test.T)).T\n",
        "X_test_5.shape"
      ]
    },
    {
      "cell_type": "code",
      "execution_count": 449,
      "metadata": {
        "colab": {
          "base_uri": "https://localhost:8080/"
        },
        "id": "eJri9MAnzzrL",
        "outputId": "a6cad664-3d8f-4ec6-dd6c-14e061adc3d8"
      },
      "outputs": [
        {
          "name": "stderr",
          "output_type": "stream",
          "text": [
            "/usr/local/lib/python3.7/dist-packages/ipykernel_launcher.py:1: FutureWarning: `rcond` parameter will change to the default of machine precision times ``max(M, N)`` where M and N are the input matrix dimensions.\n",
            "To use the future default and silence this warning we advise to pass `rcond=None`, to keep using the old, explicitly pass `rcond=-1`.\n"
          ]
        }
      ],
      "source": [
        "mhat_t_5, residuals, rank, s = np.linalg.lstsq(X_test_5, Y_test)"
      ]
    },
    {
      "cell_type": "code",
      "execution_count": 450,
      "metadata": {
        "colab": {
          "base_uri": "https://localhost:8080/"
        },
        "id": "PpMxqXqWzztf",
        "outputId": "48e700f2-e384-4cbc-f4f1-487e0700d029"
      },
      "outputs": [
        {
          "data": {
            "text/plain": [
              "array([[ 0.32118773],\n",
              "       [ 1.41461821],\n",
              "       [-0.23448528],\n",
              "       [-0.15820172],\n",
              "       [-0.25151207],\n",
              "       [ 0.0996189 ]])"
            ]
          },
          "execution_count": 450,
          "metadata": {},
          "output_type": "execute_result"
        }
      ],
      "source": [
        "mhat_t_5"
      ]
    },
    {
      "cell_type": "code",
      "execution_count": 451,
      "metadata": {
        "id": "BKtWHBc6zzv6"
      },
      "outputs": [],
      "source": [
        "Y_pred_test = np.dot(X_test_5, mhat_t_5)"
      ]
    },
    {
      "cell_type": "code",
      "execution_count": 452,
      "metadata": {
        "id": "IknpOOGgzzyI"
      },
      "outputs": [],
      "source": [
        "erro_quadratico_t_5 = (Y_test-Y_pred_test) ** 2"
      ]
    },
    {
      "cell_type": "code",
      "execution_count": 453,
      "metadata": {
        "id": "PmK4l2GRzz43"
      },
      "outputs": [],
      "source": [
        "erro_quadratico_medio_t_5 = sum(erro_quadratico_t_5)/len(X_test_5)"
      ]
    },
    {
      "cell_type": "code",
      "execution_count": 454,
      "metadata": {
        "id": "uD9ZcKGQ0DyJ"
      },
      "outputs": [],
      "source": [
        "EQM.append(erro_quadratico_medio_t_5[0])"
      ]
    },
    {
      "cell_type": "markdown",
      "metadata": {
        "id": "40nKRuJP0KI8"
      },
      "source": [
        "Gráfico de EQC X λ (CONJUNTO DE TESTE)"
      ]
    },
    {
      "cell_type": "code",
      "execution_count": 456,
      "metadata": {
        "colab": {
          "base_uri": "https://localhost:8080/",
          "height": 287
        },
        "id": "R9D0i6Yv0GWK",
        "outputId": "e2252a1d-ccb2-458f-df29-db5b00fd9a67"
      },
      "outputs": [
        {
          "data": {
            "image/png": "[encoded data removed]",
            "text/plain": [
              "<Figure size 432x288 with 1 Axes>"
            ]
          },
          "metadata": {
            "needs_background": "light"
          },
          "output_type": "display_data"
        }
      ],
      "source": [
        "plt.bar(np.arange(6),EQM)\n",
        "plt.ylabel('EQM', fontsize=18)\n",
        "plt.xlabel('λ', fontsize=18)\n",
        "plt.show()"
      ]
    }
  ],
  "metadata": {
    "colab": {
      "provenance": []
    },
    "kernelspec": {
      "display_name": "Python 3",
      "name": "python3"
    },
    "language_info": {
      "name": "python"
    }
  },
  "nbformat": 4,
  "nbformat_minor": 0
}
